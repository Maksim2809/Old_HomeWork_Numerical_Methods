{
  "cells": [
    {
      "cell_type": "markdown",
      "metadata": {
        "id": "view-in-github",
        "colab_type": "text"
      },
      "source": [
        "<a href=\"https://colab.research.google.com/github/Maksim2809/Old_HomeWork_Numerical_Methods/blob/main/HomeWork5_(%D1%80%D0%B5%D0%B3%D1%80%D0%B5%D1%81%D1%81%D0%B8%D1%8F_%D1%81%D0%BF%D0%BB%D0%B0%D0%B9%D0%BD%D0%B0%D0%BC%D0%B8).ipynb\" target=\"_parent\"><img src=\"https://colab.research.google.com/assets/colab-badge.svg\" alt=\"Open In Colab\"/></a>"
      ]
    },
    {
      "cell_type": "code",
      "execution_count": null,
      "id": "9877c47c",
      "metadata": {
        "id": "9877c47c"
      },
      "outputs": [],
      "source": [
        "import numpy as np\n",
        "import pandas as pd\n",
        "import scipy.stats as sp\n",
        "import statsmodels as st\n",
        "import statsmodels.api as sm\n",
        "from sklearn.linear_model import LinearRegression\n",
        "import sklearn.metrics\n",
        "\n",
        "from sklearn.model_selection import train_test_split\n",
        "from sklearn.model_selection import KFold\n",
        "from sklearn.model_selection import cross_val_score, GridSearchCV\n",
        "\n",
        "from sklearn.metrics import mean_squared_error as mse, r2_score\n",
        "import matplotlib.pyplot as plt\n",
        "import seaborn as sns\n",
        "import itertools as itr\n",
        "\n",
        "from sklearn.metrics import roc_auc_score as rocauc\n",
        "from sklearn.linear_model import LogisticRegression , Ridge, Lasso,ElasticNet\n",
        "\n",
        "import math\n",
        "\n",
        "import matplotlib.pyplot as plt"
      ]
    },
    {
      "cell_type": "code",
      "execution_count": null,
      "id": "4c6f6ffe",
      "metadata": {
        "id": "4c6f6ffe"
      },
      "outputs": [],
      "source": [
        "df_itog = pd.DataFrame({})\n",
        "\n",
        "def f(x):\n",
        "    \"\"\"\n",
        "    истинная, незашумлёная функция.\n",
        "    \"\"\"\n",
        "    return np.sin(x)*np.log(1+x**2)"
      ]
    },
    {
      "cell_type": "markdown",
      "id": "69828455",
      "metadata": {
        "id": "69828455"
      },
      "source": [
        "# Генерация данных\n",
        "### (N = 100, т.к. иначе GSV не очень хорошо считается)"
      ]
    },
    {
      "cell_type": "code",
      "execution_count": null,
      "id": "5f9633cb",
      "metadata": {
        "id": "5f9633cb"
      },
      "outputs": [],
      "source": [
        "N  = 100\n",
        "s2 = 0.5\n",
        "P = 10\n",
        "\n",
        "X = np.random.uniform(low = -math.pi, high = math.pi, size = N)\n",
        "E = np.random.normal(0,s2,N)\n",
        "Y = f(X)+E\n",
        "X_p = np.array([X**i for i in range(1,P)]).T\n",
        "x_train,x_test,y_train,y_test = train_test_split(X_p,Y)"
      ]
    },
    {
      "cell_type": "code",
      "execution_count": null,
      "id": "64e97cd6",
      "metadata": {
        "id": "64e97cd6",
        "outputId": "b3704a64-1851-4ff2-d1cc-814f2bf9d914"
      },
      "outputs": [
        {
          "data": {
            "text/plain": [
              "<matplotlib.collections.PathCollection at 0x1ecb2f63280>"
            ]
          },
          "execution_count": 184,
          "metadata": {},
          "output_type": "execute_result"
        },
        {
          "data": {
            "image/png": "[encoded data removed]",
            "text/plain": [
              "<Figure size 432x288 with 1 Axes>"
            ]
          },
          "metadata": {
            "needs_background": "light"
          },
          "output_type": "display_data"
        }
      ],
      "source": [
        "plt.scatter(X,Y)"
      ]
    },
    {
      "cell_type": "markdown",
      "id": "09c8842f",
      "metadata": {
        "id": "09c8842f"
      },
      "source": [
        "\n",
        "\n",
        "# Задание № 1. Выбор степени полинома для апроксимации"
      ]
    },
    {
      "cell_type": "code",
      "execution_count": null,
      "id": "5657244d",
      "metadata": {
        "id": "5657244d",
        "outputId": "36349f04-7bea-46b4-bf90-7c879212267b"
      },
      "outputs": [
        {
          "name": "stdout",
          "output_type": "stream",
          "text": [
            "Среднее(степень полинома = 1): 0.5946514753300771\n",
            "Среднее(степень полинома = 2): 0.5816044701551386\n",
            "Среднее(степень полинома = 3): 0.649863140321804\n",
            "Среднее(степень полинома = 4): 0.6183981186699452\n",
            "Среднее(степень полинома = 5): 0.7086653193662873\n",
            "Среднее(степень полинома = 6): 0.6966338277402475\n",
            "Среднее(степень полинома = 7): 0.7285667945804433\n",
            "Среднее(степень полинома = 8): 0.7304982519977723\n",
            "Среднее(степень полинома = 9): 0.7467584802632679\n"
          ]
        }
      ],
      "source": [
        "for i in range(1,P):\n",
        "    K = KFold( n_splits=5 )\n",
        "    r2 = []\n",
        "    for x1,x2 in K.split(x_train,y_train):\n",
        "        x_tr = X_p[:,:i][x1]\n",
        "        x_val= X_p[:,:i][x2]\n",
        "        y_tr = Y[x1]\n",
        "        y_val= Y[x2]\n",
        "        lr = LinearRegression().fit(x_tr,y_tr)\n",
        "        y_pred = lr.predict(x_test[:,:i])\n",
        "        r2+=[r2_score(y_test,y_pred)]\n",
        "    print(f'Среднее(степень полинома = {i}):',np.mean(r2))"
      ]
    },
    {
      "cell_type": "markdown",
      "id": "6f36ccab",
      "metadata": {
        "id": "6f36ccab"
      },
      "source": [
        "###### Начиная с седьмой степени результаы +- похожи. Поэтму выберем стпень полинома 7"
      ]
    },
    {
      "cell_type": "code",
      "execution_count": null,
      "id": "d30a4e79",
      "metadata": {
        "id": "d30a4e79",
        "outputId": "252c1dd5-d59c-48f2-84d1-71cf87ed4fbe"
      },
      "outputs": [
        {
          "name": "stdout",
          "output_type": "stream",
          "text": [
            "{'alpha': 1.0}\n",
            "R2 0.7166888994353635\n"
          ]
        }
      ],
      "source": [
        "x_train,x_test, y_train,y_test = train_test_split(X_p[:,:6],Y)\n",
        "ridge = Ridge(max_iter = 14000)\n",
        "clf = GridSearchCV(ridge, param_grid={'alpha': [i/100 for i in range(101)]}).fit(x_train,y_train)\n",
        "print(clf.best_params_)\n",
        "print('R2',r2_score(y_test,clf.predict(x_test)))\n",
        "# print('CGV:',np.mean(cross_val_score(clf, x_test, y_test, cv=5,scoring = 'r2')))"
      ]
    },
    {
      "cell_type": "markdown",
      "id": "9c35d404",
      "metadata": {
        "id": "9c35d404"
      },
      "source": [
        "# Задание № 2 (строим сплайн без сглаживания)"
      ]
    },
    {
      "cell_type": "code",
      "execution_count": null,
      "id": "8fcff5be",
      "metadata": {
        "id": "8fcff5be"
      },
      "outputs": [],
      "source": [
        "from sklearn.preprocessing import SplineTransformer\n",
        "from scipy.interpolate import CubicSpline\n",
        "from scipy.interpolate import splev, splrep\n",
        "from scipy import interpolate"
      ]
    },
    {
      "cell_type": "code",
      "execution_count": null,
      "id": "c6d15c82",
      "metadata": {
        "id": "c6d15c82"
      },
      "outputs": [],
      "source": [
        "x_train,x_test,y_train,y_test = train_test_split(X,Y)\n",
        "\n",
        "df_sort = pd.DataFrame({'x':x_train,\n",
        "                       'y':y_train}).sort_values('x')\n",
        "x_sort = df_sort['x']\n",
        "y_sort = df_sort['y']\n",
        "# cs = CubicSpline(df_sort['x'][:4],df_sort['y'][:4])\n",
        "spl = splrep(df_sort['x'][::10], df_sort['y'][::10], s = 0)\n",
        "y2 = splev(df_sort['x'], spl)\n",
        "# Y_new2 = SplineTransformer().fit_transform([[x] for x in X], Y)\n",
        "# Y_new3 = splrep"
      ]
    },
    {
      "cell_type": "code",
      "execution_count": null,
      "id": "9b5e39b0",
      "metadata": {
        "id": "9b5e39b0"
      },
      "outputs": [],
      "source": [
        "def f_sp(x,X,Y):\n",
        "    tck = interpolate.splrep(X, Y, s = 0)\n",
        "    return interpolate.splev(x, tck)\n",
        "\n",
        "x_sp3 = x_sort\n",
        "x_axis = np.linspace(-math.pi,math.pi,100)\n",
        "y_sp3 = f_sp( x_axis,x_sort[::5],y_sort[::5])"
      ]
    },
    {
      "cell_type": "code",
      "execution_count": null,
      "id": "8cb05e24",
      "metadata": {
        "id": "8cb05e24",
        "outputId": "2eb96dad-ae32-4f0f-a405-958b8f990833"
      },
      "outputs": [
        {
          "data": {
            "image/png": "[encoded data removed]",
            "text/plain": [
              "<Figure size 432x288 with 1 Axes>"
            ]
          },
          "metadata": {
            "needs_background": "light"
          },
          "output_type": "display_data"
        }
      ],
      "source": [
        "df_sort_full = pd.DataFrame({'x':X,\n",
        "                       'y':Y}).sort_values('x')\n",
        "x_sort_full = df_sort_full['x']\n",
        "y_sort_full = df_sort_full['y']\n",
        "\n",
        "# df_itog['x'] = df_sort_full['x']\n",
        "# df_itog['y'] = df_sort_full['y']\n",
        "# df_itog['сплайн без сглжаивания'] = f_sp( x_sort_full,x_sort[::5],y_sort[::5])\n",
        "\n",
        "plt.scatter(df_sort_full['x'],df_sort_full['y'],label = 'данные',color='k')\n",
        "# plt.plot(df_sort['x'],cs(df_sort['x'],3))\n",
        "# plt.plot(df_sort['x'],y2)\n",
        "plt.plot(x_sort_full,f(x_sort_full),label = 'ист. функция',color='r')\n",
        "plt.plot(x_axis,y_sp3,label = 'сплайн без сглаживания',color='b')\n",
        "plt.legend()\n",
        "plt.ylim((-5,5))\n",
        "plt.show()"
      ]
    },
    {
      "cell_type": "markdown",
      "id": "dd543528",
      "metadata": {
        "id": "dd543528"
      },
      "source": [
        "# Задание № 3 (выбор коэффициента сглаживания)"
      ]
    },
    {
      "cell_type": "code",
      "execution_count": null,
      "id": "f3a32536",
      "metadata": {
        "id": "f3a32536",
        "outputId": "c947e0e0-09f2-4e76-a3cd-425952d066a8"
      },
      "outputs": [
        {
          "name": "stdout",
          "output_type": "stream",
          "text": [
            "(коэф. сглаживания = 0.0): 6.89234176609926\n",
            "(коэф. сглаживания = 0.01): 6.5916103678531\n",
            "(коэф. сглаживания = 0.02): 6.472260054397613\n",
            "(коэф. сглаживания = 0.03): 6.384990516315117\n",
            "(коэф. сглаживания = 0.04): 6.312546536098658\n",
            "(коэф. сглаживания = 0.05): 6.248827137910957\n",
            "(коэф. сглаживания = 0.06): 6.1904909374231\n",
            "(коэф. сглаживания = 0.07): 6.135465172696697\n",
            "(коэф. сглаживания = 0.08): 6.081589045074337\n",
            "(коэф. сглаживания = 0.09): 6.028032966274027\n",
            "(коэф. сглаживания = 0.1): 6.008575019249796\n",
            "(коэф. сглаживания = 0.11): 5.942170770263633\n",
            "(коэф. сглаживания = 0.12): 5.878144472531674\n",
            "(коэф. сглаживания = 0.13): 5.812929930928026\n",
            "(коэф. сглаживания = 0.14): 5.746323820100432\n",
            "(коэф. сглаживания = 0.15): 5.679071485083\n",
            "(коэф. сглаживания = 0.16): 5.612474962605994\n",
            "(коэф. сглаживания = 0.17): 5.526659288552687\n",
            "(коэф. сглаживания = 0.18): 5.385474029300178\n",
            "(коэф. сглаживания = 0.19): 5.296100530391496\n",
            "(коэф. сглаживания = 0.2): 5.2215705807272\n",
            "(коэф. сглаживания = 0.21): 5.155738199829737\n",
            "(коэф. сглаживания = 0.22): 5.101031743534423\n",
            "(коэф. сглаживания = 0.23): 5.047817102593365\n",
            "(коэф. сглаживания = 0.24): 5.031495538635164\n",
            "(коэф. сглаживания = 0.25): 4.944994344026401\n",
            "(коэф. сглаживания = 0.26): 4.890741087541139\n",
            "(коэф. сглаживания = 0.27): 4.846923330265926\n",
            "(коэф. сглаживания = 0.28): 4.809467022687241\n",
            "(коэф. сглаживания = 0.29): 4.776681396094477\n",
            "(коэф. сглаживания = 0.3): 4.745941568820156\n",
            "(коэф. сглаживания = 0.31): 4.718951642502955\n",
            "(коэф. сглаживания = 0.32): 4.693911539210652\n",
            "(коэф. сглаживания = 0.33): 4.670823769359589\n",
            "(коэф. сглаживания = 0.34): 4.64910404757418\n",
            "(коэф. сглаживания = 0.35): 4.628752365803903\n",
            "(коэф. сглаживания = 0.36): 4.610090342228577\n",
            "(коэф. сглаживания = 0.37): 4.591464600646052\n",
            "(коэф. сглаживания = 0.38): 4.57395317240659\n",
            "(коэф. сглаживания = 0.39): 4.556965102716112\n",
            "(коэф. сглаживания = 0.4): 4.540290243977204\n",
            "(коэф. сглаживания = 0.41): 4.523669171168446\n",
            "(коэф. сглаживания = 0.42): 4.512233552234178\n",
            "(коэф. сглаживания = 0.43): 4.4928890500456\n",
            "(коэф. сглаживания = 0.44): 4.474106431369674\n",
            "(коэф. сглаживания = 0.45): 4.453081384220543\n",
            "(коэф. сглаживания = 0.46): 4.428363381205625\n",
            "(коэф. сглаживания = 0.47): 4.397744007022186\n",
            "(коэф. сглаживания = 0.48): 4.361672197387531\n",
            "(коэф. сглаживания = 0.49): 4.001773478897686\n",
            "(коэф. сглаживания = 0.5): 5.5945443252273925\n",
            "(коэф. сглаживания = 0.51): 5.409994550769753\n",
            "(коэф. сглаживания = 0.52): 5.303593103745275\n",
            "(коэф. сглаживания = 0.53): 5.2197653382466545\n",
            "(коэф. сглаживания = 0.54): 5.440859711976312\n",
            "(коэф. сглаживания = 0.55): 5.234934005144814\n",
            "(коэф. сглаживания = 0.56): 5.109455129507858\n",
            "(коэф. сглаживания = 0.57): 5.015357992693877\n",
            "(коэф. сглаживания = 0.58): 4.904741308407375\n",
            "(коэф. сглаживания = 0.59): 4.778104126257092\n",
            "(коэф. сглаживания = 0.6): 4.665315571509459\n",
            "(коэф. сглаживания = 0.61): 4.647927253568576\n",
            "(коэф. сглаживания = 0.62): 4.532268061339251\n",
            "(коэф. сглаживания = 0.63): 4.436323348578824\n",
            "(коэф. сглаживания = 0.64): 4.350697196245831\n",
            "(коэф. сглаживания = 0.65): 4.275759879305939\n",
            "(коэф. сглаживания = 0.66): 4.205296480957784\n",
            "(коэф. сглаживания = 0.67): 4.133959820480057\n",
            "(коэф. сглаживания = 0.68): 4.07377681737835\n",
            "(коэф. сглаживания = 0.69): 4.017728807302869\n",
            "(коэф. сглаживания = 0.7): 3.9641526952235817\n",
            "(коэф. сглаживания = 0.71): 3.913901167849813\n",
            "(коэф. сглаживания = 0.72): 3.8648072347557676\n",
            "(коэф. сглаживания = 0.73): 3.8174362564002617\n",
            "(коэф. сглаживания = 0.74): 3.773412371381101\n",
            "(коэф. сглаживания = 0.75): 3.727928640290052\n",
            "(коэф. сглаживания = 0.76): 3.683795532320179\n",
            "(коэф. сглаживания = 0.77): 3.6409595344115604\n",
            "(коэф. сглаживания = 0.78): 3.599879906744235\n",
            "(коэф. сглаживания = 0.79): 3.559812099448774\n",
            "(коэф. сглаживания = 0.8): 3.520843878258559\n",
            "(коэф. сглаживания = 0.81): 3.4827045562982444\n",
            "(коэф. сглаживания = 0.82): 3.4455099311029826\n",
            "(коэф. сглаживания = 0.83): 3.4092367555177034\n",
            "(коэф. сглаживания = 0.84): 3.3739059836051752\n",
            "(коэф. сглаживания = 0.85): 3.3392285739576284\n",
            "(коэф. сглаживания = 0.86): 3.3037488597438194\n",
            "(коэф. сглаживания = 0.87): 3.273117224007677\n",
            "(коэф. сглаживания = 0.88): 3.2416429363606825\n",
            "(коэф. сглаживания = 0.89): 3.211236821794539\n",
            "(коэф. сглаживания = 0.9): 3.181896831036554\n",
            "(коэф. сглаживания = 0.91): 3.153615924778306\n",
            "(коэф. сглаживания = 0.92): 3.1264779604119184\n",
            "(коэф. сглаживания = 0.93): 3.100341092692711\n",
            "(коэф. сглаживания = 0.94): 3.0751917021025825\n",
            "(коэф. сглаживания = 0.95): 3.052270974971942\n",
            "(коэф. сглаживания = 0.96): 3.0272239928655047\n",
            "(коэф. сглаживания = 0.97): 3.003195173253752\n",
            "(коэф. сглаживания = 0.98): 2.9836032192555613\n",
            "(коэф. сглаживания = 0.99): 2.9627313976624783\n"
          ]
        }
      ],
      "source": [
        "K = KFold( n_splits=3,shuffle=True )\n",
        "idx_fold = []\n",
        "for x1,x2 in K.split(x_train,y_train):\n",
        "    idx_fold+= [((x1,x2))]\n",
        "for i in range(100):\n",
        "\n",
        "    error = []\n",
        "    for x1,x2 in idx_fold:\n",
        "        df_sort = pd.DataFrame({'x':x_train[x1],\n",
        "                       'y':y_train[x1]}).sort_values('x')\n",
        "\n",
        "        df_sort_test = pd.DataFrame({'x':x_train[x2],\n",
        "                       'y':y_train[x2]}).sort_values('x')\n",
        "\n",
        "#         x_sort = df_sort['x']\n",
        "#         y_sort = df_sort['y']\n",
        "\n",
        "        spl2 = splrep(df_sort['x'][::5], df_sort['y'][::5], s = i/100)\n",
        "        y_pred = splev(df_sort_test['x'], spl2)\n",
        "\n",
        "#         y_sp3 = f_sp( x_test,x_sort[::40],y_sort[::40])\n",
        "#         y_pred = lr.predict(x_test[:,:i])\n",
        "        error+=[mse(y_train[x2],y_pred)]\n",
        "    print(f'(коэф. сглаживания = {i/100}):',np.mean(error))\n",
        "# plt.plot(df_sort_test['x'],y_pred,color='b')\n",
        "# x_all = np.linspace(-math.pi,math.pi,100)\n",
        "# plt.plot(x_all,splev(x_all, spl2),color='r')\n",
        "# plt.scatter(x_train,y_train,color='k')\n",
        "# plt.show()\n",
        "# plt.scatter(x_train,y_train)"
      ]
    },
    {
      "cell_type": "code",
      "execution_count": null,
      "id": "9fd9bcdf",
      "metadata": {
        "id": "9fd9bcdf"
      },
      "outputs": [],
      "source": [
        "# spl3 = splrep(df_sort['x'][::8], df_sort['y'][::8], s = 0.99)\n",
        "# df_itog['со сглаживанием'] = splev(df_sort_test['x'], spl3)"
      ]
    },
    {
      "cell_type": "markdown",
      "id": "7280ab9c",
      "metadata": {
        "id": "7280ab9c"
      },
      "source": [
        "###### Лучший коэффициент = 0.99"
      ]
    },
    {
      "cell_type": "code",
      "execution_count": null,
      "id": "7e4bd4ed",
      "metadata": {
        "id": "7e4bd4ed"
      },
      "outputs": [],
      "source": []
    },
    {
      "cell_type": "code",
      "execution_count": null,
      "id": "9d523045",
      "metadata": {
        "id": "9d523045"
      },
      "outputs": [],
      "source": [
        "# import numpy as np\n",
        "# from pygam import LinearGAM, s\n",
        "# import matplotlib.pyplot as plt\n",
        "\n",
        "# x_ax = df_sort_full['x']\n",
        "# y_ax = df_sort_full['y']\n",
        "# gam = LinearGAM(s(0)).fit(x_ax[::4],y_ax[::4] )\n",
        "\n",
        "# # Generate predictions\n",
        "# # X_pred = np.linspace(_, _, _)\n",
        "\n",
        "# y_pred = gam.predict(x_ax)\n",
        "\n",
        "# # Plot data and predictions\n",
        "# plt.scatter(x_ax, df_sort_full['y'], label='data')\n",
        "# plt.plot(x_ax, f(x_ax), 'k-', label='$f(x)$')\n",
        "# plt.plot(x_ax, y_pred, label='Predictions GAM',color = 'r')\n",
        "# plt.legend()\n",
        "# plt.show()"
      ]
    },
    {
      "cell_type": "markdown",
      "id": "3968a6dc",
      "metadata": {
        "id": "3968a6dc"
      },
      "source": [
        "# Выделить базисные функции из используемых методов проблематично (4-ое задание), пятое задание почти не отличается от 3го, поэтому без 4-го и 5-го заданий"
      ]
    },
    {
      "cell_type": "markdown",
      "id": "963784de",
      "metadata": {
        "id": "963784de"
      },
      "source": [
        "# Задание 6 (визуализация моделей)"
      ]
    },
    {
      "cell_type": "code",
      "execution_count": null,
      "id": "fb02c603",
      "metadata": {
        "id": "fb02c603"
      },
      "outputs": [],
      "source": [
        "df_itog['x'] = X\n",
        "df_itog['y'] = Y\n",
        "df_itog['ист функ'] = f(X)\n",
        "df_itog['регрессия'] = clf.predict(X_p[:,:6])\n",
        "df_itog['сплайн без сглаживания'] = f_sp( X,x_sort[::5],y_sort[::5])\n",
        "\n",
        "spl3 = splrep(df_sort['x'][::5], df_sort['y'][::5], s = 0.99)\n",
        "df_itog['со сглаживанием'] = splev(X, spl3)"
      ]
    },
    {
      "cell_type": "code",
      "execution_count": null,
      "id": "d50491d1",
      "metadata": {
        "id": "d50491d1",
        "outputId": "edacd729-7987-4073-8355-9ffc071f269e"
      },
      "outputs": [
        {
          "data": {
            "text/plain": [
              "<AxesSubplot:xlabel='x'>"
            ]
          },
          "execution_count": 232,
          "metadata": {},
          "output_type": "execute_result"
        },
        {
          "data": {
            "image/png": "[encoded data removed]",
            "text/plain": [
              "<Figure size 432x288 with 1 Axes>"
            ]
          },
          "metadata": {
            "needs_background": "light"
          },
          "output_type": "display_data"
        }
      ],
      "source": [
        "df_itog.sort_values(by = 'x').plot(x = 'x')"
      ]
    },
    {
      "cell_type": "markdown",
      "id": "67f2476d",
      "metadata": {
        "id": "67f2476d"
      },
      "source": [
        "##### Сравнение результатов (по R2)"
      ]
    },
    {
      "cell_type": "code",
      "execution_count": null,
      "id": "4cc68a10",
      "metadata": {
        "id": "4cc68a10",
        "outputId": "e456d844-43f0-4728-e772-3154feee6154"
      },
      "outputs": [
        {
          "name": "stdout",
          "output_type": "stream",
          "text": [
            "регрессия: 0.915323442541041\n",
            "сплайн без сглаживания: 0.30571545163412894\n",
            "со сглаживанием: 0.7719225327189072\n"
          ]
        }
      ],
      "source": [
        "for col in df_itog.columns[3:]:\n",
        "    print(f'{col}:',r2_score(df_itog['ист функ'],df_itog[col]))"
      ]
    },
    {
      "cell_type": "code",
      "execution_count": null,
      "id": "5af90b33",
      "metadata": {
        "id": "5af90b33"
      },
      "outputs": [],
      "source": []
    },
    {
      "cell_type": "code",
      "execution_count": null,
      "id": "e6267281",
      "metadata": {
        "id": "e6267281"
      },
      "outputs": [],
      "source": []
    },
    {
      "cell_type": "code",
      "execution_count": null,
      "id": "98f3325f",
      "metadata": {
        "id": "98f3325f"
      },
      "outputs": [],
      "source": []
    },
    {
      "cell_type": "code",
      "execution_count": null,
      "id": "03be85b7",
      "metadata": {
        "id": "03be85b7"
      },
      "outputs": [],
      "source": []
    },
    {
      "cell_type": "code",
      "execution_count": null,
      "id": "76f5c018",
      "metadata": {
        "id": "76f5c018"
      },
      "outputs": [],
      "source": []
    }
  ],
  "metadata": {
    "kernelspec": {
      "display_name": "Python 3 (ipykernel)",
      "language": "python",
      "name": "python3"
    },
    "language_info": {
      "codemirror_mode": {
        "name": "ipython",
        "version": 3
      },
      "file_extension": ".py",
      "mimetype": "text/x-python",
      "name": "python",
      "nbconvert_exporter": "python",
      "pygments_lexer": "ipython3",
      "version": "3.9.12"
    },
    "colab": {
      "provenance": [],
      "include_colab_link": true
    }
  },
  "nbformat": 4,
  "nbformat_minor": 5
}